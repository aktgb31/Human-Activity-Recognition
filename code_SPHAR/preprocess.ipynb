{
 "cells": [
  {
   "cell_type": "code",
   "execution_count": 1,
   "metadata": {},
   "outputs": [],
   "source": [
    "import os\n",
    "import glob\n",
    "import torch\n",
    "import csv\n",
    "from sklearn.preprocessing import LabelEncoder"
   ]
  },
  {
   "cell_type": "code",
   "execution_count": 2,
   "metadata": {},
   "outputs": [],
   "source": [
    "def csv_for_folders(path):\n",
    "    video_paths=[]\n",
    "    video_labels=[]\n",
    "    for folder in os.listdir(path):\n",
    "        if not os.path.isdir(path+'/'+folder):\n",
    "            continue\n",
    "        for video in os.listdir(path+'/'+folder):\n",
    "            video_paths.append(folder+'/'+video)\n",
    "            video_labels.append(folder)\n",
    "    return video_paths, video_labels\n",
    "\n",
    "\n",
    "def generate_csv(base_path, csv_path):\n",
    "    \n",
    "    with open(csv_path, 'w') as f:\n",
    "        f.write('Video_class,Video_path\\n')\n",
    "        video_paths, video_labels = csv_for_folders(base_path+'/videos')\n",
    "\n",
    "        video_labels = LabelEncoder().fit_transform(video_labels)\n",
    "        video_labels = [str(label) for label in video_labels]\n",
    "        # Count number of classes\n",
    "        num_classes = len(set(video_labels))\n",
    "        print ('Number of classes: {}'.format(num_classes))\n",
    "        for i in range(len(video_paths)):\n",
    "            f.write(video_labels[i]+','+video_paths[i]+'\\n')\n",
    "    "
   ]
  },
  {
   "cell_type": "code",
   "execution_count": 3,
   "metadata": {},
   "outputs": [
    {
     "name": "stdout",
     "output_type": "stream",
     "text": [
      "Number of classes: 14\n"
     ]
    }
   ],
   "source": [
    "base_path='../datasets/sphar'\n",
    "csv_path='../datasets/sphar/sphar.csv'\n",
    "if os.path.exists(csv_path):\n",
    "    os.remove(csv_path)\n",
    "generate_csv(base_path, csv_path)"
   ]
  }
 ],
 "metadata": {
  "kernelspec": {
   "display_name": "Python 3 (ipykernel)",
   "language": "python",
   "name": "python3"
  },
  "language_info": {
   "codemirror_mode": {
    "name": "ipython",
    "version": 3
   },
   "file_extension": ".py",
   "mimetype": "text/x-python",
   "name": "python",
   "nbconvert_exporter": "python",
   "pygments_lexer": "ipython3",
   "version": "3.8.10"
  },
  "orig_nbformat": 4,
  "vscode": {
   "interpreter": {
    "hash": "e7370f93d1d0cde622a1f8e1c04877d8463912d04d973331ad4851f04de6915a"
   }
  }
 },
 "nbformat": 4,
 "nbformat_minor": 2
}
