{
 "cells": [
  {
   "cell_type": "code",
   "execution_count": 1,
   "metadata": {},
   "outputs": [],
   "source": [
    "import os\n",
    "import glob\n",
    "import torch\n",
    "import csv"
   ]
  },
  {
   "cell_type": "code",
   "execution_count": 27,
   "metadata": {},
   "outputs": [],
   "source": [
    "def csv_for_folders(path):\n",
    "    video_paths=[]\n",
    "    video_labels=[]\n",
    "    for folder in os.listdir(path):\n",
    "        for video in os.listdir(path+'/'+folder):\n",
    "            video_paths.append(folder+'/'+video)\n",
    "            video_labels.append(folder)\n",
    "    return video_paths, video_labels\n",
    "\n",
    "\n",
    "def generate_csv(base_path, csv_path):\n",
    "    folder_name=['Anomaly-Videos-Part-1','Anomaly-Videos-Part-2',\n",
    "                 'Anomaly-Videos-Part-3','Anomaly-Videos-Part-4',]\n",
    "    \n",
    "    with open(csv_path+'.csv', 'w') as f:\n",
    "        f.write('Video_class,Video_name\\n')\n",
    "        for folder in folder_name:\n",
    "            video_paths, video_labels = csv_for_folders(base_path+'/'+folder+'/'+folder)\n",
    "            for i in range(len(video_paths)):\n",
    "                f.write(video_labels[i]+','+folder+'/'+folder+'/'+video_paths[i]+'\\n')\n",
    "\n",
    "        for video in os.listdir(base_path+'/Normal_Videos_for_Event_Recognition/Normal_Videos_for_Event_Recognition'):\n",
    "            f.write('Normal,Normal_Videos_for_Event_Recognition/Normal_Videos_for_Event_Recognition/'+video+'\\n')\n",
    "    \n"
   ]
  },
  {
   "cell_type": "code",
   "execution_count": 28,
   "metadata": {},
   "outputs": [],
   "source": [
    "base_path='../datasets/ucfcrimedataset'\n",
    "csv_path='../datasets/ucfcrimedataset/ucfcrimedataset'\n",
    "if os.path.exists(csv_path+'.csv'):\n",
    "    os.remove(csv_path+'.csv')\n",
    "generate_csv(base_path, csv_path)"
   ]
  },
  {
   "cell_type": "code",
   "execution_count": 38,
   "metadata": {},
   "outputs": [
    {
     "name": "stdout",
     "output_type": "stream",
     "text": [
      "1000\n"
     ]
    }
   ],
   "source": [
    "import pandas as pd\n",
    "\n",
    "df = pd.read_csv('../datasets/ucfcrimedataset/ucfcrimedataset.csv')\n",
    "print (len(df))\n"
   ]
  },
  {
   "cell_type": "code",
   "execution_count": 36,
   "metadata": {},
   "outputs": [
    {
     "name": "stdout",
     "output_type": "stream",
     "text": [
      "torch.Size([2729, 240, 320, 3])\n",
      "{'video_fps': 30.0, 'audio_fps': 44100}\n",
      "273\n"
     ]
    }
   ],
   "source": [
    "import torchvision\n",
    "\n",
    "video,audio,metadata=torchvision.io.read_video('../datasets/ucfcrimedataset/Anomaly-Videos-Part-1/Anomaly-Videos-Part-1/Abuse/Abuse001_x264.mp4')\n",
    "print(video.shape)\n",
    "print(metadata)\n",
    "\n",
    "print(len(torch.split(video, 10, dim=0)))"
   ]
  },
  {
   "cell_type": "code",
   "execution_count": 40,
   "metadata": {},
   "outputs": [
    {
     "ename": "ValueError",
     "evalue": "too many values to unpack (expected 2)",
     "output_type": "error",
     "traceback": [
      "\u001b[0;31m---------------------------------------------------------------------------\u001b[0m",
      "\u001b[0;31mValueError\u001b[0m                                Traceback (most recent call last)",
      "Cell \u001b[0;32mIn[40], line 1\u001b[0m\n\u001b[0;32m----> 1\u001b[0m \u001b[39mfor\u001b[39;00m label, video_path \u001b[39min\u001b[39;00m df\u001b[39m.\u001b[39mitertuples():\n\u001b[1;32m      2\u001b[0m     video,audio,metadata\u001b[39m=\u001b[39mtorchvision\u001b[39m.\u001b[39mio\u001b[39m.\u001b[39mread_video(\u001b[39m'\u001b[39m\u001b[39m../datasets/ucfcrimedataset/\u001b[39m\u001b[39m'\u001b[39m\u001b[39m+\u001b[39mvideo_path[\u001b[39m1\u001b[39m])\n\u001b[1;32m      3\u001b[0m     \u001b[39mprint\u001b[39m(video\u001b[39m.\u001b[39mshape)\n",
      "\u001b[0;31mValueError\u001b[0m: too many values to unpack (expected 2)"
     ]
    }
   ],
   "source": [
    "for label, video_path in df.itertuples(False):\n",
    "    video,audio,metadata=torchvision.io.read_video('../datasets/ucfcrimedataset/'+video_path[1])\n",
    "    print(video.shape)\n",
    "    \n",
    "    break"
   ]
  },
  {
   "cell_type": "code",
   "execution_count": null,
   "metadata": {},
   "outputs": [],
   "source": [
    "def prepare_dataset(colab):\n",
    "    if colab:\n",
    "        base_path = '/content/drive/MyDrive/dataset'\n",
    "        checkpoints_path = '/content/drive/MyDrive/checkpoints'\n",
    "        results_path = '/content/drive/MyDrive/results'\n",
    "    else:\n",
    "        base_path = '../datasets/ucfcrimedataset'\n",
    "        checkpoints_path = './checkpoints'\n",
    "        results_path = './results'    \n",
    "\n",
    "    if not os.path.isdir(base_path):\n",
    "        os.makedirs(base_path)\n",
    "    \n",
    "    if not os.path.isdir(checkpoints_path):\n",
    "        os.makedirs(checkpoints_path)\n",
    "\n",
    "    if not os.path.isdir(results_path):\n",
    "        os.makedirs(results_path)\n",
    "    \n",
    "    # if base path as non zero files then return error\n",
    "    if len(os.listdir(base_path)) != 0:\n",
    "        print(\"Error: base_path is not empty\")\n",
    "        return\n",
    "    "
   ]
  }
 ],
 "metadata": {
  "kernelspec": {
   "display_name": "Python 3",
   "language": "python",
   "name": "python3"
  },
  "language_info": {
   "codemirror_mode": {
    "name": "ipython",
    "version": 3
   },
   "file_extension": ".py",
   "mimetype": "text/x-python",
   "name": "python",
   "nbconvert_exporter": "python",
   "pygments_lexer": "ipython3",
   "version": "3.8.10"
  },
  "orig_nbformat": 4
 },
 "nbformat": 4,
 "nbformat_minor": 2
}
