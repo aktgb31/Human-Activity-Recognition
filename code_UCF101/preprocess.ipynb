{
 "cells": [
  {
   "cell_type": "code",
   "execution_count": 3,
   "metadata": {},
   "outputs": [],
   "source": [
    "import os\n",
    "import glob\n",
    "import torch\n",
    "import csv\n",
    "from sklearn.preprocessing import LabelEncoder"
   ]
  },
  {
   "cell_type": "code",
   "execution_count": 4,
   "metadata": {},
   "outputs": [],
   "source": [
    "def csv_for_folders(path):\n",
    "    video_paths=[]\n",
    "    video_labels=[]\n",
    "    for folder in os.listdir(path):\n",
    "        if not os.path.isdir(path+'/'+folder):\n",
    "            continue\n",
    "        for video in os.listdir(path+'/'+folder):\n",
    "            video_paths.append(folder+'/'+video)\n",
    "            video_labels.append(folder)\n",
    "    return video_paths, video_labels\n",
    "\n",
    "\n",
    "def generate_csv(base_path, csv_path):\n",
    "    \n",
    "    with open(csv_path, 'w') as f:\n",
    "        f.write('Video_class,Video_path\\n')\n",
    "        video_paths, video_labels = csv_for_folders(base_path+'/video')\n",
    "\n",
    "        video_labels = LabelEncoder().fit_transform(video_labels)\n",
    "        video_labels = [str(label) for label in video_labels]\n",
    "        # Count number of classes\n",
    "        num_classes = len(set(video_labels))\n",
    "        print ('Number of classes: {}'.format(num_classes))\n",
    "        for i in range(len(video_paths)):\n",
    "            f.write(video_labels[i]+','+video_paths[i]+'\\n')\n",
    "    "
   ]
  },
  {
   "cell_type": "code",
   "execution_count": 5,
   "metadata": {},
   "outputs": [
    {
     "ename": "NameError",
     "evalue": "name 'video_lahmdb51datasetbels' is not defined",
     "output_type": "error",
     "traceback": [
      "\u001b[0;31m---------------------------------------------------------------------------\u001b[0m",
      "\u001b[0;31mNameError\u001b[0m                                 Traceback (most recent call last)",
      "Cell \u001b[0;32mIn[5], line 5\u001b[0m\n\u001b[1;32m      3\u001b[0m \u001b[39mif\u001b[39;00m os\u001b[39m.\u001b[39mpath\u001b[39m.\u001b[39mexists(csv_path):\n\u001b[1;32m      4\u001b[0m     os\u001b[39m.\u001b[39mremove(csv_path)\n\u001b[0;32m----> 5\u001b[0m generate_csv(base_path, csv_path)\n",
      "Cell \u001b[0;32mIn[4], line 22\u001b[0m, in \u001b[0;36mgenerate_csv\u001b[0;34m(base_path, csv_path)\u001b[0m\n\u001b[1;32m     20\u001b[0m video_labels \u001b[39m=\u001b[39m [\u001b[39mstr\u001b[39m(label) \u001b[39mfor\u001b[39;00m label \u001b[39min\u001b[39;00m video_labels]\n\u001b[1;32m     21\u001b[0m \u001b[39m# Count number of classes\u001b[39;00m\n\u001b[0;32m---> 22\u001b[0m num_classes \u001b[39m=\u001b[39m \u001b[39mlen\u001b[39m(\u001b[39mset\u001b[39m(video_lahmdb51datasetbels))\n\u001b[1;32m     23\u001b[0m \u001b[39mprint\u001b[39m (\u001b[39m'\u001b[39m\u001b[39mNumber of classes: \u001b[39m\u001b[39m{}\u001b[39;00m\u001b[39m'\u001b[39m\u001b[39m.\u001b[39mformat(num_classes))\n\u001b[1;32m     24\u001b[0m \u001b[39mfor\u001b[39;00m i \u001b[39min\u001b[39;00m \u001b[39mrange\u001b[39m(\u001b[39mlen\u001b[39m(video_paths)):\n",
      "\u001b[0;31mNameError\u001b[0m: name 'video_lahmdb51datasetbels' is not defined"
     ]
    }
   ],
   "source": [
    "base_path='../datasets/hmdb51dataset'\n",
    "csv_path='../datasets/hmdb51dataset/hmdb51dataset.csv'\n",
    "if os.path.exists(csv_path):\n",
    "    os.remove(csv_path)\n",
    "generate_csv(base_path, csv_path)"
   ]
  }
 ],
 "metadata": {
  "kernelspec": {
   "display_name": "Python 3 (ipykernel)",
   "language": "python",
   "name": "python3"
  },
  "orig_nbformat": 4,
  "vscode": {
   "interpreter": {
    "hash": "e7370f93d1d0cde622a1f8e1c04877d8463912d04d973331ad4851f04de6915a"
   }
  }
 },
 "nbformat": 4,
 "nbformat_minor": 2
}
