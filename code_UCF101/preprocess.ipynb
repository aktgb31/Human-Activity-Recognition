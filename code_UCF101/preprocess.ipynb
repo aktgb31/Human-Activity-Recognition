{
 "cells": [
  {
   "cell_type": "code",
   "execution_count": 1,
   "metadata": {},
   "outputs": [],
   "source": [
    "import os\n",
    "import glob\n",
    "import torch\n",
    "import csv"
   ]
  },
  {
   "cell_type": "code",
   "execution_count": 2,
   "metadata": {},
   "outputs": [],
   "source": [
    "def csv_for_folders(path):\n",
    "    video_paths=[]\n",
    "    video_labels=[]\n",
    "    for folder in os.listdir(path):\n",
    "        for video in os.listdir(path+'/'+folder):\n",
    "            video_paths.append(folder+'/'+video)\n",
    "            video_labels.append(folder)\n",
    "    return video_paths, video_labels\n",
    "\n",
    "\n",
    "def generate_csv(base_path, csv_path):\n",
    "    folder_name=['Anomaly-Videos-Part-1','Anomaly-Videos-Part-2',\n",
    "                 'Anomaly-Videos-Part-3','Anomaly-Videos-Part-4',]\n",
    "    \n",
    "    with open(csv_path+'.csv', 'w') as f:\n",
    "        f.write('Video_class,Video_name\\n')\n",
    "        for folder in folder_name:\n",
    "            video_paths, video_labels = csv_for_folders(base_path+'/'+folder+'/'+folder)\n",
    "            for i in range(len(video_paths)):\n",
    "                f.write(video_labels[i]+','+folder+'/'+folder+'/'+video_paths[i]+'\\n')\n",
    "\n",
    "        for video in os.listdir(base_path+'/Normal_Videos_for_Event_Recognition/Normal_Videos_for_Event_Recognition'):\n",
    "            f.write('Normal,Normal_Videos_for_Event_Recognition/Normal_Videos_for_Event_Recognition/'+video+'\\n')\n",
    "    \n"
   ]
  },
  {
   "cell_type": "code",
   "execution_count": 3,
   "metadata": {},
   "outputs": [],
   "source": [
    "base_path='../datasets/ucfcrimedataset'\n",
    "csv_path='../datasets/ucfcrimedataset/ucfcrimedataset'\n",
    "if os.path.exists(csv_path+'.csv'):\n",
    "    os.remove(csv_path+'.csv')\n",
    "generate_csv(base_path, csv_path)"
   ]
  },
  {
   "cell_type": "code",
   "execution_count": 4,
   "metadata": {},
   "outputs": [
    {
     "name": "stdout",
     "output_type": "stream",
     "text": [
      "1000\n"
     ]
    }
   ],
   "source": [
    "import pandas as pd\n",
    "\n",
    "df = pd.read_csv('../datasets/ucfcrimedataset/ucfcrimedataset.csv')\n",
    "print (len(df))\n"
   ]
  },
  {
   "cell_type": "code",
   "execution_count": 5,
   "metadata": {},
   "outputs": [
    {
     "name": "stderr",
     "output_type": "stream",
     "text": [
      "/usr/local/lib/python3.8/dist-packages/torchvision/io/video.py:162: UserWarning: The pts_unit 'pts' gives wrong results. Please use pts_unit 'sec'.\n",
      "  warnings.warn(\"The pts_unit 'pts' gives wrong results. Please use pts_unit 'sec'.\")\n"
     ]
    },
    {
     "name": "stdout",
     "output_type": "stream",
     "text": [
      "torch.Size([2729, 240, 320, 3])\n",
      "{'video_fps': 30.0, 'audio_fps': 44100}\n",
      "273\n"
     ]
    }
   ],
   "source": [
    "import torchvision\n",
    "\n",
    "video,audio,metadata=torchvision.io.read_video('../datasets/ucfcrimedataset/Anomaly-Videos-Part-1/Anomaly-Videos-Part-1/Abuse/Abuse001_x264.mp4')\n",
    "print(video.shape)\n",
    "print(metadata)\n",
    "\n",
    "print(len(torch.split(video, 10, dim=0)))"
   ]
  },
  {
   "cell_type": "code",
   "execution_count": 6,
   "metadata": {},
   "outputs": [
    {
     "name": "stdout",
     "output_type": "stream",
     "text": [
      "Abuse Anomaly-Videos-Part-1/Anomaly-Videos-Part-1/Abuse/Abuse001_x264.mp4\n",
      "torch.Size([2729, 240, 320, 3])\n"
     ]
    }
   ],
   "source": [
    "for label, video_path in df.itertuples(False):\n",
    "    print(label, video_path)\n",
    "    video,audio,metadata=torchvision.io.read_video('../datasets/ucfcrimedataset/'+video_path)\n",
    "    print(video.shape)\n",
    "    \n",
    "    break"
   ]
  },
  {
   "cell_type": "code",
   "execution_count": 7,
   "metadata": {},
   "outputs": [],
   "source": [
    "import numpy as np\n",
    "\n",
    "annotations=np.array_split(df, os.cpu_count())"
   ]
  },
  {
   "cell_type": "code",
   "execution_count": 8,
   "metadata": {},
   "outputs": [
    {
     "data": {
      "text/plain": [
       "pandas.core.frame.DataFrame"
      ]
     },
     "execution_count": 8,
     "metadata": {},
     "output_type": "execute_result"
    }
   ],
   "source": [
    "type(annotations[0])"
   ]
  },
  {
   "cell_type": "code",
   "execution_count": 9,
   "metadata": {},
   "outputs": [
    {
     "ename": "",
     "evalue": "",
     "output_type": "error",
     "traceback": [
      "\u001b[1;31mThe Kernel crashed while executing code in the the current cell or a previous cell. Please review the code in the cell(s) to identify a possible cause of the failure. Click <a href='https://aka.ms/vscodeJupyterKernelCrash'>here</a> for more info. View Jupyter <a href='command:jupyter.viewOutput'>log</a> for further details."
     ]
    }
   ],
   "source": [
    "def prepare_dataset(colab):\n",
    "    if colab:\n",
    "        base_path = '/content/drive/MyDrive/dataset'\n",
    "        checkpoints_path = '/content/drive/MyDrive/checkpoints'\n",
    "        results_path = '/content/drive/MyDrive/results'\n",
    "    else:\n",
    "        base_path = '../datasets/ucfcrimedataset'\n",
    "        checkpoints_path = './checkpoints'\n",
    "        results_path = './results'    \n",
    "\n",
    "    if not os.path.isdir(base_path):\n",
    "        os.makedirs(base_path)\n",
    "    \n",
    "    if not os.path.isdir(checkpoints_path):\n",
    "        os.makedirs(checkpoints_path)\n",
    "\n",
    "    if not os.path.isdir(results_path):\n",
    "        os.makedirs(results_path)\n",
    "    \n",
    "    # if base path as non zero files then return error\n",
    "    if len(os.listdir(base_path)) != 0:\n",
    "        print(\"Error: base_path is not empty\")\n",
    "        return\n",
    "    "
   ]
  }
 ],
 "metadata": {
  "kernelspec": {
   "display_name": "Python 3 (ipykernel)",
   "language": "python",
   "name": "python3"
  },
  "language_info": {
   "codemirror_mode": {
    "name": "ipython",
    "version": 3
   },
   "file_extension": ".py",
   "mimetype": "text/x-python",
   "name": "python",
   "nbconvert_exporter": "python",
   "pygments_lexer": "ipython3",
   "version": "3.8.10"
  },
  "orig_nbformat": 4,
  "vscode": {
   "interpreter": {
    "hash": "e7370f93d1d0cde622a1f8e1c04877d8463912d04d973331ad4851f04de6915a"
   }
  }
 },
 "nbformat": 4,
 "nbformat_minor": 2
}
