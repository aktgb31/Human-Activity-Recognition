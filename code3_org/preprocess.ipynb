{
 "cells": [
  {
   "cell_type": "code",
   "execution_count": 1,
   "metadata": {},
   "outputs": [],
   "source": [
    "import os\n",
    "import glob\n",
    "import torch\n",
    "import csv"
   ]
  },
  {
   "cell_type": "code",
   "execution_count": 2,
   "metadata": {},
   "outputs": [],
   "source": [
    "def csv_for_folders(path):\n",
    "    video_paths=[]\n",
    "    video_labels=[]\n",
    "    for folder in os.listdir(path):\n",
    "        for video in os.listdir(path+'/'+folder):\n",
    "            video_paths.append(folder+'/'+video)\n",
    "            video_labels.append(folder)\n",
    "    return video_paths, video_labels\n",
    "\n",
    "\n",
    "def generate_csv(base_path, csv_path):\n",
    "    folder_name=['Anomaly-Videos-Part-1','Anomaly-Videos-Part-2',\n",
    "                 'Anomaly-Videos-Part-3','Anomaly-Videos-Part-4',]\n",
    "    \n",
    "    with open(csv_path+'.csv', 'w') as f:\n",
    "        f.write('Video_class,Video_name\\n')\n",
    "        for folder in folder_name:\n",
    "            video_paths, video_labels = csv_for_folders(base_path+'/'+folder+'/'+folder)\n",
    "            for i in range(len(video_paths)):\n",
    "                f.write(video_labels[i]+','+folder+'/'+folder+'/'+video_paths[i]+'\\n')\n",
    "\n",
    "        for video in os.listdir(base_path+'/Normal_Videos_for_Event_Recognition/Normal_Videos_for_Event_Recognition'):\n",
    "            f.write('Normal,Normal_Videos_for_Event_Recognition/Normal_Videos_for_Event_Recognition/'+video+'\\n')\n",
    "    \n"
   ]
  },
  {
   "cell_type": "code",
   "execution_count": 3,
   "metadata": {},
   "outputs": [],
   "source": [
    "base_path='../datasets/ucfcrimedataset'\n",
    "csv_path='../datasets/ucfcrimedataset/ucfcrimedataset'\n",
    "if os.path.exists(csv_path+'.csv'):\n",
    "    os.remove(csv_path+'.csv')\n",
    "generate_csv(base_path, csv_path)"
   ]
  },
  {
   "cell_type": "code",
   "execution_count": 4,
   "metadata": {},
   "outputs": [
    {
     "name": "stdout",
     "output_type": "stream",
     "text": [
      "1000\n"
     ]
    }
   ],
   "source": [
    "import pandas as pd\n",
    "\n",
    "df = pd.read_csv('../datasets/ucfcrimedataset/ucfcrimedataset.csv')\n",
    "print (len(df))\n"
   ]
  },
  {
   "cell_type": "code",
   "execution_count": 5,
   "metadata": {},
   "outputs": [
    {
     "name": "stderr",
     "output_type": "stream",
     "text": [
      "/usr/local/lib/python3.8/dist-packages/torchvision/io/video.py:162: UserWarning: The pts_unit 'pts' gives wrong results. Please use pts_unit 'sec'.\n",
      "  warnings.warn(\"The pts_unit 'pts' gives wrong results. Please use pts_unit 'sec'.\")\n"
     ]
    },
    {
     "name": "stdout",
     "output_type": "stream",
     "text": [
      "torch.Size([2729, 240, 320, 3])\n",
      "{'video_fps': 30.0, 'audio_fps': 44100}\n",
      "273\n"
     ]
    }
   ],
   "source": [
    "import torchvision\n",
    "\n",
    "video,audio,metadata=torchvision.io.read_video('../datasets/ucfcrimedataset/Anomaly-Videos-Part-1/Anomaly-Videos-Part-1/Abuse/Abuse001_x264.mp4')\n",
    "print(video.shape)\n",
    "print(metadata)\n",
    "\n",
    "print(len(torch.split(video, 10, dim=0)))"
   ]
  },
  {
   "cell_type": "code",
   "execution_count": 6,
   "metadata": {},
   "outputs": [
    {
     "name": "stdout",
     "output_type": "stream",
     "text": [
      "Abuse Anomaly-Videos-Part-1/Anomaly-Videos-Part-1/Abuse/Abuse001_x264.mp4\n"
     ]
    },
    {
     "ename": "RuntimeError",
     "evalue": "File not found: ../datasets/ucfcrimedataset/n",
     "output_type": "error",
     "traceback": [
      "\u001b[0;31m---------------------------------------------------------------------------\u001b[0m",
      "\u001b[0;31mRuntimeError\u001b[0m                              Traceback (most recent call last)",
      "Cell \u001b[0;32mIn[6], line 3\u001b[0m\n\u001b[1;32m      1\u001b[0m \u001b[39mfor\u001b[39;00m label, video_path \u001b[39min\u001b[39;00m df\u001b[39m.\u001b[39mitertuples(\u001b[39mFalse\u001b[39;00m):\n\u001b[1;32m      2\u001b[0m     \u001b[39mprint\u001b[39m(label, video_path)\n\u001b[0;32m----> 3\u001b[0m     video,audio,metadata\u001b[39m=\u001b[39mtorchvision\u001b[39m.\u001b[39;49mio\u001b[39m.\u001b[39;49mread_video(\u001b[39m'\u001b[39;49m\u001b[39m../datasets/ucfcrimedataset/\u001b[39;49m\u001b[39m'\u001b[39;49m\u001b[39m+\u001b[39;49mvideo_path[\u001b[39m1\u001b[39;49m])\n\u001b[1;32m      4\u001b[0m     \u001b[39mprint\u001b[39m(video\u001b[39m.\u001b[39mshape)\n\u001b[1;32m      6\u001b[0m     \u001b[39mbreak\u001b[39;00m\n",
      "File \u001b[0;32m/usr/local/lib/python3.8/dist-packages/torchvision/io/video.py:273\u001b[0m, in \u001b[0;36mread_video\u001b[0;34m(filename, start_pts, end_pts, pts_unit, output_format)\u001b[0m\n\u001b[1;32m    270\u001b[0m \u001b[39mfrom\u001b[39;00m \u001b[39mtorchvision\u001b[39;00m \u001b[39mimport\u001b[39;00m get_video_backend\n\u001b[1;32m    272\u001b[0m \u001b[39mif\u001b[39;00m \u001b[39mnot\u001b[39;00m os\u001b[39m.\u001b[39mpath\u001b[39m.\u001b[39mexists(filename):\n\u001b[0;32m--> 273\u001b[0m     \u001b[39mraise\u001b[39;00m \u001b[39mRuntimeError\u001b[39;00m(\u001b[39mf\u001b[39m\u001b[39m\"\u001b[39m\u001b[39mFile not found: \u001b[39m\u001b[39m{\u001b[39;00mfilename\u001b[39m}\u001b[39;00m\u001b[39m\"\u001b[39m)\n\u001b[1;32m    275\u001b[0m \u001b[39mif\u001b[39;00m get_video_backend() \u001b[39m!=\u001b[39m \u001b[39m\"\u001b[39m\u001b[39mpyav\u001b[39m\u001b[39m\"\u001b[39m:\n\u001b[1;32m    276\u001b[0m     vframes, aframes, info \u001b[39m=\u001b[39m _video_opt\u001b[39m.\u001b[39m_read_video(filename, start_pts, end_pts, pts_unit)\n",
      "\u001b[0;31mRuntimeError\u001b[0m: File not found: ../datasets/ucfcrimedataset/n"
     ]
    }
   ],
   "source": [
    "for label, video_path in df.itertuples(False):\n",
    "    print(label, video_path)\n",
    "    video,audio,metadata=torchvision.io.read_video('../datasets/ucfcrimedataset/'+video_path)\n",
    "    print(video.shape)\n",
    "    \n",
    "    break"
   ]
  },
  {
   "cell_type": "code",
   "execution_count": 10,
   "metadata": {},
   "outputs": [],
   "source": [
    "import numpy as np\n",
    "\n",
    "annotations=np.array_split(df, os.cpu_count())"
   ]
  },
  {
   "cell_type": "code",
   "execution_count": 12,
   "metadata": {},
   "outputs": [
    {
     "data": {
      "text/plain": [
       "pandas.core.frame.DataFrame"
      ]
     },
     "execution_count": 12,
     "metadata": {},
     "output_type": "execute_result"
    }
   ],
   "source": [
    "type(annotations[0])"
   ]
  },
  {
   "cell_type": "code",
   "execution_count": null,
   "metadata": {},
   "outputs": [],
   "source": [
    "def prepare_dataset(colab):\n",
    "    if colab:\n",
    "        base_path = '/content/drive/MyDrive/dataset'\n",
    "        checkpoints_path = '/content/drive/MyDrive/checkpoints'\n",
    "        results_path = '/content/drive/MyDrive/results'\n",
    "    else:\n",
    "        base_path = '../datasets/ucfcrimedataset'\n",
    "        checkpoints_path = './checkpoints'\n",
    "        results_path = './results'    \n",
    "\n",
    "    if not os.path.isdir(base_path):\n",
    "        os.makedirs(base_path)\n",
    "    \n",
    "    if not os.path.isdir(checkpoints_path):\n",
    "        os.makedirs(checkpoints_path)\n",
    "\n",
    "    if not os.path.isdir(results_path):\n",
    "        os.makedirs(results_path)\n",
    "    \n",
    "    # if base path as non zero files then return error\n",
    "    if len(os.listdir(base_path)) != 0:\n",
    "        print(\"Error: base_path is not empty\")\n",
    "        return\n",
    "    "
   ]
  }
 ],
 "metadata": {
  "kernelspec": {
   "display_name": "Python 3",
   "language": "python",
   "name": "python3"
  },
  "language_info": {
   "codemirror_mode": {
    "name": "ipython",
    "version": 3
   },
   "file_extension": ".py",
   "mimetype": "text/x-python",
   "name": "python",
   "nbconvert_exporter": "python",
   "pygments_lexer": "ipython3",
   "version": "3.8.10"
  },
  "orig_nbformat": 4,
  "vscode": {
   "interpreter": {
    "hash": "e7370f93d1d0cde622a1f8e1c04877d8463912d04d973331ad4851f04de6915a"
   }
  }
 },
 "nbformat": 4,
 "nbformat_minor": 2
}
